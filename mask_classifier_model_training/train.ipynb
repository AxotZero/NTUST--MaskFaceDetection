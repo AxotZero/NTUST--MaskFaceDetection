{
 "cells": [
  {
   "cell_type": "code",
   "execution_count": 1,
   "metadata": {},
   "outputs": [],
   "source": [
    "import xml.etree.ElementTree as ET\n",
    "import os\n",
    "import cv2\n",
    "from  matplotlib import pyplot as plt\n",
    "%matplotlib inline"
   ]
  },
  {
   "cell_type": "code",
   "execution_count": 2,
   "metadata": {},
   "outputs": [
    {
     "name": "stdout",
     "output_type": "stream",
     "text": [
      "with_mask_index:  1000\n",
      "without_mask_index: 717\n"
     ]
    }
   ],
   "source": [
    "with_mask_index = 0\n",
    "without_mask_index = 0\n",
    "resize = 128\n",
    "\n",
    "for xml_file in os.listdir(os.path.join('source', 'annotations')):\n",
    "    try:\n",
    "        tree = ET.ElementTree(file=os.path.join('source', 'annotations', xml_file))\n",
    "        image = cv2.imread(os.path.join('source', 'images', tree.find('filename').text))\n",
    "        for ob in tree.findall('object'):\n",
    "            bndbox = ob.find('bndbox')\n",
    "            label = ob.find('name').text\n",
    "            ymin = int(bndbox.find('ymin').text)\n",
    "            xmin = int(bndbox.find('xmin').text)\n",
    "            xmax = int(bndbox.find('xmax').text)\n",
    "            ymax = int(bndbox.find('ymax').text)\n",
    "            if label == 'with_mask':\n",
    "                if with_mask_index >= 1000:\n",
    "                    continue\n",
    "                index = with_mask_index\n",
    "            elif label == 'without_mask':\n",
    "                if without_mask_index >= 1000:\n",
    "                    continue\n",
    "                index = without_mask_index\n",
    "                \n",
    "            pic = image[ymin:ymax, xmin:xmax]\n",
    "            pic = cv2.resize(pic, (resize,resize))\n",
    "            cv2.imwrite(os.path.join('./data', label, str(index) + '.jpg'), pic)\n",
    "            \n",
    "            if label == 'with_mask':\n",
    "                with_mask_index += 1\n",
    "            elif label == 'without_mask':\n",
    "                without_mask_index += 1\n",
    "            \n",
    "    except Exception as e:\n",
    "        print(e)\n",
    "    \n",
    "print('with_mask_index: ', with_mask_index)\n",
    "print('without_mask_index:', without_mask_index)"
   ]
  },
  {
   "cell_type": "code",
   "execution_count": 12,
   "metadata": {},
   "outputs": [],
   "source": [
    "import numpy as np\n",
    "import random\n",
    "import time\n",
    "random.seed(int(time.time()))\n",
    "def build_data(path):\n",
    "    datas = []\n",
    "    for file_path in os.listdir(path):\n",
    "        datas.append(cv2.imread(os.path.join(path, file_path)) / 255.0)\n",
    "    return datas\n",
    "\n",
    "\n",
    "train_x = []\n",
    "train_y = []\n",
    "val_x = []\n",
    "val_y = []\n",
    "\n",
    "data = build_data(os.path.join('./data', 'with_mask'))\n",
    "random.shuffle(data)\n",
    "train_x += data[:int(len(data) * 0.7)]\n",
    "train_y += [1] * int(len(data) * 0.7)\n",
    "val_x += data[int(len(data) * 0.7):]\n",
    "val_y += [1] * (len(data) - int(len(data) * 0.7))\n",
    "\n",
    "data = build_data(os.path.join('./data', 'without_mask'))\n",
    "random.shuffle(data)\n",
    "train_x += data[:int(len(data) * 0.7)]\n",
    "train_y += [0] * int(len(data) * 0.7)\n",
    "val_x += data[int(len(data) * 0.7):]\n",
    "val_y += [0] * (len(data) - int(len(data) * 0.7))\n",
    "\n",
    "train_x = np.array(train_x)\n",
    "train_y = np.array(train_y)\n",
    "val_x = np.array(val_x)\n",
    "val_y = np.array(val_y)"
   ]
  },
  {
   "cell_type": "code",
   "execution_count": 13,
   "metadata": {},
   "outputs": [],
   "source": [
    "import keras\n",
    "from keras.models import Sequential\n",
    "from keras.layers import Conv2D, Activation, MaxPooling2D, Dense, Flatten, Dropout"
   ]
  },
  {
   "cell_type": "code",
   "execution_count": 15,
   "metadata": {},
   "outputs": [
    {
     "name": "stdout",
     "output_type": "stream",
     "text": [
      "Train on 1002 samples, validate on 432 samples\n",
      "Epoch 1/10\n",
      "1002/1002 [==============================] - 20s 20ms/step - loss: 0.4470 - accuracy: 0.8403 - val_loss: 0.2820 - val_accuracy: 0.9352\n",
      "Epoch 2/10\n",
      "1002/1002 [==============================] - 19s 19ms/step - loss: 0.1431 - accuracy: 0.9561 - val_loss: 0.1006 - val_accuracy: 0.9769\n",
      "Epoch 3/10\n",
      "1002/1002 [==============================] - 19s 19ms/step - loss: 0.1026 - accuracy: 0.9701 - val_loss: 0.0984 - val_accuracy: 0.9745\n",
      "Epoch 4/10\n",
      "1002/1002 [==============================] - 19s 19ms/step - loss: 0.0970 - accuracy: 0.9691 - val_loss: 0.1791 - val_accuracy: 0.9491\n",
      "Epoch 5/10\n",
      "1002/1002 [==============================] - 19s 19ms/step - loss: 0.0968 - accuracy: 0.9721 - val_loss: 0.1307 - val_accuracy: 0.9537\n",
      "Epoch 6/10\n",
      "1002/1002 [==============================] - 19s 19ms/step - loss: 0.0840 - accuracy: 0.9741 - val_loss: 0.1195 - val_accuracy: 0.9606\n",
      "Epoch 7/10\n",
      "1002/1002 [==============================] - 20s 20ms/step - loss: 0.0688 - accuracy: 0.9820 - val_loss: 0.1247 - val_accuracy: 0.9745\n",
      "Epoch 8/10\n",
      "1002/1002 [==============================] - 20s 20ms/step - loss: 0.0632 - accuracy: 0.9820 - val_loss: 0.1311 - val_accuracy: 0.9699\n",
      "Epoch 9/10\n",
      "1002/1002 [==============================] - 21s 21ms/step - loss: 0.0654 - accuracy: 0.9840 - val_loss: 0.1204 - val_accuracy: 0.9653\n",
      "Epoch 10/10\n",
      "1002/1002 [==============================] - 21s 21ms/step - loss: 0.0711 - accuracy: 0.9750 - val_loss: 0.1067 - val_accuracy: 0.9699\n"
     ]
    },
    {
     "data": {
      "text/plain": [
       "<keras.callbacks.callbacks.History at 0x1be2a10a9b0>"
      ]
     },
     "execution_count": 15,
     "metadata": {},
     "output_type": "execute_result"
    }
   ],
   "source": [
    "def get_model(shape):\n",
    "\n",
    "    model = Sequential()\n",
    "    model.add(Conv2D(64, (3, 3), input_shape=shape))\n",
    "    model.add(Activation('relu'))\n",
    "    model.add(MaxPooling2D(pool_size=(2, 2)))\n",
    "\n",
    "    model.add(Conv2D(64, (3, 3)))\n",
    "    model.add(Activation('relu'))\n",
    "    model.add(MaxPooling2D(pool_size=(2, 2)))\n",
    "\n",
    "    model.add(Flatten())  # this converts our 3D feature maps to 1D feature vectors\n",
    "    model.add(Dense(32))\n",
    "    model.add(Dropout(0.2))\n",
    "    model.add(Dense(1))\n",
    "    model.add(Activation('sigmoid'))\n",
    "    return model\n",
    "\n",
    "\n",
    "\n",
    "model = get_model(train_x[0].shape)\n",
    "model.compile(optimizer='adam',\n",
    "              loss='binary_crossentropy',\n",
    "              metrics=['accuracy'])\n",
    "\n",
    "model.fit(train_x, train_y, batch_size=32, validation_data=(val_x, val_y), epochs=10, shuffle=True)"
   ]
  },
  {
   "cell_type": "code",
   "execution_count": 21,
   "metadata": {},
   "outputs": [
    {
     "name": "stdout",
     "output_type": "stream",
     "text": [
      "[[0.9997949]]\n"
     ]
    },
    {
     "data": {
      "image/png": "[encoded data removed]",
      "text/plain": [
       "<Figure size 432x288 with 1 Axes>"
      ]
     },
     "metadata": {
      "needs_background": "light"
     },
     "output_type": "display_data"
    }
   ],
   "source": [
    "image = val_x[20]\n",
    "print(model.predict(np.expand_dims(image, axis=0)))\n",
    "image = (image * 255.0).astype(int)\n",
    "image = image[:,:,::-1] \n",
    "plt.imshow(image)\n",
    "plt.show()"
   ]
  },
  {
   "cell_type": "code",
   "execution_count": 22,
   "metadata": {},
   "outputs": [],
   "source": [
    "model.save_weights('mask.h5')"
   ]
  },
  {
   "cell_type": "code",
   "execution_count": null,
   "metadata": {},
   "outputs": [],
   "source": []
  }
 ],
 "metadata": {
  "kernelspec": {
   "display_name": "Python 3",
   "language": "python",
   "name": "python3"
  },
  "language_info": {
   "codemirror_mode": {
    "name": "ipython",
    "version": 3
   },
   "file_extension": ".py",
   "mimetype": "text/x-python",
   "name": "python",
   "nbconvert_exporter": "python",
   "pygments_lexer": "ipython3",
   "version": "3.7.3"
  }
 },
 "nbformat": 4,
 "nbformat_minor": 4
}
