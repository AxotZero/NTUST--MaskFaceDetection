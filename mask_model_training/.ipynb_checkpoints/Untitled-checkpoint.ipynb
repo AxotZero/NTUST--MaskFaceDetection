{
 "cells": [
  {
   "cell_type": "code",
   "execution_count": 25,
   "metadata": {},
   "outputs": [],
   "source": [
    "import xml.etree.ElementTree as ET\n",
    "import os\n",
    "import cv2\n",
    "from  matplotlib import pyplot as plt\n",
    "%matplotlib inline"
   ]
  },
  {
   "cell_type": "code",
   "execution_count": 57,
   "metadata": {},
   "outputs": [
    {
     "name": "stdout",
     "output_type": "stream",
     "text": [
      "with_mask_index:  200\n",
      "without_mask_index: 164\n"
     ]
    }
   ],
   "source": [
    "with_mask_index = 0\n",
    "without_mask_index = 0\n",
    "\n",
    "for xml_file in os.listdir(os.path.join('source', 'annotations')):\n",
    "    try:\n",
    "        tree = ET.ElementTree(file=os.path.join('source', 'annotations', xml_file))\n",
    "        image = cv2.imread(os.path.join('source', 'images', tree.find('filename').text))\n",
    "        for ob in tree.findall('object'):\n",
    "            bndbox = ob.find('bndbox')\n",
    "            label = ob.find('name').text\n",
    "            ymin = int(bndbox.find('ymin').text)\n",
    "            xmin = int(bndbox.find('xmin').text)\n",
    "            xmax = int(bndbox.find('xmax').text)\n",
    "            ymax = int(bndbox.find('ymax').text)\n",
    "            if label == 'with_mask':\n",
    "                if with_mask_index >= 200:\n",
    "                    continue\n",
    "                index = with_mask_index\n",
    "            elif label == 'without_mask':\n",
    "                if without_mask_index >= 200:\n",
    "                    continue\n",
    "                index = without_mask_index\n",
    "                \n",
    "            pic = image[ymin:ymax, xmin:xmax]\n",
    "            pic = cv2.resize(pic, (50,50))\n",
    "            cv2.imwrite(os.path.join('./data', label, str(index) + '.jpg'), pic)\n",
    "            \n",
    "            if label == 'with_mask':\n",
    "                with_mask_index += 1\n",
    "            elif label == 'without_mask':\n",
    "                without_mask_index += 1\n",
    "            \n",
    "    except Exception as e:\n",
    "        print(e)\n",
    "    \n",
    "print('with_mask_index: ', with_mask_index)\n",
    "print('without_mask_index:', without_mask_index)"
   ]
  },
  {
   "cell_type": "code",
   "execution_count": 62,
   "metadata": {},
   "outputs": [],
   "source": [
    "import numpy as np\n",
    "def build_train(path):\n",
    "    datas = []\n",
    "    for file_path in os.listdir(path):\n",
    "        datas.append(cv2.imread(os.path.join(path, file_path)))\n",
    "    return datas\n",
    "\n",
    "datas = []\n",
    "targets = []\n",
    "datas += build_train(os.path.join('./data', 'with_mask'))\n",
    "targets += [1] * 164\n",
    "\n",
    "datas += build_train(os.path.join('./data', 'without_mask'))\n",
    "targets += [0] * 164\n",
    "\n",
    "datas = np.array(datas)\n",
    "targets = np.array(targets)"
   ]
  },
  {
   "cell_type": "code",
   "execution_count": 71,
   "metadata": {},
   "outputs": [],
   "source": [
    "datas = datas / 255.0"
   ]
  },
  {
   "cell_type": "code",
   "execution_count": 80,
   "metadata": {},
   "outputs": [],
   "source": [
    "import keras\n",
    "from keras.models import Sequential\n",
    "from keras.layers import Conv2D, Activation, MaxPooling2D, Dense, Flatten, Dropout"
   ]
  },
  {
   "cell_type": "code",
   "execution_count": 82,
   "metadata": {},
   "outputs": [
    {
     "name": "stdout",
     "output_type": "stream",
     "text": [
      "Train on 262 samples, validate on 66 samples\n",
      "Epoch 1/10\n",
      "262/262 [==============================] - 3s 11ms/step - loss: 0.4683 - accuracy: 0.8015 - val_loss: 0.2588 - val_accuracy: 0.9697\n",
      "Epoch 2/10\n",
      "262/262 [==============================] - 2s 8ms/step - loss: 0.2303 - accuracy: 0.9275 - val_loss: 0.1106 - val_accuracy: 0.9697\n",
      "Epoch 3/10\n",
      "262/262 [==============================] - 2s 8ms/step - loss: 0.3439 - accuracy: 0.9275 - val_loss: 0.0868 - val_accuracy: 0.9697\n",
      "Epoch 4/10\n",
      "262/262 [==============================] - 2s 8ms/step - loss: 0.1608 - accuracy: 0.9504 - val_loss: 0.0022 - val_accuracy: 1.0000\n",
      "Epoch 5/10\n",
      "262/262 [==============================] - 2s 8ms/step - loss: 0.1135 - accuracy: 0.9618 - val_loss: 0.4359 - val_accuracy: 0.7727\n",
      "Epoch 6/10\n",
      "262/262 [==============================] - 2s 8ms/step - loss: 0.1785 - accuracy: 0.9466 - val_loss: 0.1127 - val_accuracy: 0.9697\n",
      "Epoch 7/10\n",
      "262/262 [==============================] - 2s 8ms/step - loss: 0.1050 - accuracy: 0.9771 - val_loss: 0.7189 - val_accuracy: 0.8030\n",
      "Epoch 8/10\n",
      "262/262 [==============================] - 2s 8ms/step - loss: 0.1067 - accuracy: 0.9466 - val_loss: 0.3323 - val_accuracy: 0.8939\n",
      "Epoch 9/10\n",
      "262/262 [==============================] - 2s 8ms/step - loss: 0.1317 - accuracy: 0.9504 - val_loss: 0.5867 - val_accuracy: 0.8030\n",
      "Epoch 10/10\n",
      "262/262 [==============================] - 2s 8ms/step - loss: 0.1086 - accuracy: 0.9733 - val_loss: 0.4787 - val_accuracy: 0.8636\n"
     ]
    },
    {
     "data": {
      "text/plain": [
       "<keras.callbacks.callbacks.History at 0x198448d35c0>"
      ]
     },
     "execution_count": 82,
     "metadata": {},
     "output_type": "execute_result"
    }
   ],
   "source": [
    "def get_model(shape):\n",
    "\n",
    "    model = Sequential()\n",
    "    model.add(Conv2D(64, (3, 3), input_shape=shape))\n",
    "    model.add(Activation('relu'))\n",
    "    model.add(MaxPooling2D(pool_size=(2, 2)))\n",
    "\n",
    "    model.add(Conv2D(64, (3, 3)))\n",
    "    model.add(Activation('relu'))\n",
    "    model.add(MaxPooling2D(pool_size=(2, 2)))\n",
    "\n",
    "    model.add(Flatten())  # this converts our 3D feature maps to 1D feature vectors\n",
    "    model.add(Dense(32))\n",
    "    model.add(Dropout(0.2))\n",
    "    model.add(Dense(1))\n",
    "    model.add(Activation('sigmoid'))\n",
    "    return model\n",
    "\n",
    "\n",
    "\n",
    "model = get_model(datas[0].shape)\n",
    "model.compile(optimizer='adam',\n",
    "              loss='binary_crossentropy',\n",
    "              metrics=['accuracy'])\n",
    "\n",
    "model.fit(datas, targets, batch_size=1, epochs=10, validation_split=0.2, shuffle=True)"
   ]
  },
  {
   "cell_type": "code",
   "execution_count": 98,
   "metadata": {},
   "outputs": [
    {
     "name": "stdout",
     "output_type": "stream",
     "text": [
      "[[0.01388492]]\n"
     ]
    },
    {
     "data": {
      "image/png": "[encoded data removed]",
      "text/plain": [
       "<Figure size 432x288 with 1 Axes>"
      ]
     },
     "metadata": {
      "needs_background": "light"
     },
     "output_type": "display_data"
    }
   ],
   "source": [
    "image = datas[172]\n",
    "print(model.predict(np.expand_dims(image, axis=0)))\n",
    "image = (image * 255.0).astype(int)\n",
    "image = image[:,:,::-1] \n",
    "plt.imshow(image)\n",
    "plt.show()"
   ]
  },
  {
   "cell_type": "code",
   "execution_count": 99,
   "metadata": {},
   "outputs": [],
   "source": [
    "model.save_weights('mask.h5')"
   ]
  },
  {
   "cell_type": "code",
   "execution_count": null,
   "metadata": {},
   "outputs": [],
   "source": []
  }
 ],
 "metadata": {
  "kernelspec": {
   "display_name": "Python 3",
   "language": "python",
   "name": "python3"
  },
  "language_info": {
   "codemirror_mode": {
    "name": "ipython",
    "version": 3
   },
   "file_extension": ".py",
   "mimetype": "text/x-python",
   "name": "python",
   "nbconvert_exporter": "python",
   "pygments_lexer": "ipython3",
   "version": "3.7.3"
  }
 },
 "nbformat": 4,
 "nbformat_minor": 4
}
